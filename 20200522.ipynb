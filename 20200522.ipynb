{
  "nbformat": 4,
  "nbformat_minor": 0,
  "metadata": {
    "colab": {
      "name": "20200522.ipynb",
      "provenance": [],
      "collapsed_sections": [],
      "authorship_tag": "ABX9TyPFjLa2/kE6rSJKZmIDzx4a",
      "include_colab_link": true
    },
    "kernelspec": {
      "name": "python3",
      "display_name": "Python 3"
    }
  },
  "cells": [
    {
      "cell_type": "markdown",
      "metadata": {
        "id": "view-in-github",
        "colab_type": "text"
      },
      "source": [
        "<a href=\"https://colab.research.google.com/github/haraguro1126/Introduction-to-Data-Science/blob/master/20200522.ipynb\" target=\"_parent\"><img src=\"https://colab.research.google.com/assets/colab-badge.svg\" alt=\"Open In Colab\"/></a>"
      ]
    },
    {
      "cell_type": "code",
      "metadata": {
        "id": "AMa6krJcP2ph",
        "colab_type": "code",
        "colab": {
          "base_uri": "https://localhost:8080/",
          "height": 87
        },
        "outputId": "c189dda2-1bf3-4831-9cbb-e35711ff7c2f"
      },
      "source": [
        "x = int(input(\"請輸入起始的正整數:\"))\n",
        "y = int(input(\"請輸入終止的正整數:\"))\n",
        "odds = []\n",
        "for i in range(x, y+1):\n",
        "    mod = i % 2\n",
        "    if mod == 1:\n",
        "        odds.append(i)\n",
        "print(odds)"
      ],
      "execution_count": 3,
      "outputs": [
        {
          "output_type": "stream",
          "text": [
            "請輸入起始的正整數:0\n",
            "請輸入終止的正整數:99\n",
            "[1, 3, 5, 7, 9, 11, 13, 15, 17, 19, 21, 23, 25, 27, 29, 31, 33, 35, 37, 39, 41, 43, 45, 47, 49, 51, 53, 55, 57, 59, 61, 63, 65, 67, 69, 71, 73, 75, 77, 79, 81, 83, 85, 87, 89, 91, 93, 95, 97, 99]\n"
          ],
          "name": "stdout"
        }
      ]
    },
    {
      "cell_type": "code",
      "metadata": {
        "id": "AsGx4vKlQQJp",
        "colab_type": "code",
        "colab": {}
      },
      "source": [
        "print(len(odds)) # 記數\n",
        "print(sum(odds)) # 加總"
      ],
      "execution_count": 0,
      "outputs": []
    },
    {
      "cell_type": "code",
      "metadata": {
        "id": "aHRNjedmQkrZ",
        "colab_type": "code",
        "colab": {}
      },
      "source": [
        "avengers_ratings = [8.1, 7.3, 8.5, 8.8]\n",
        "recommendations = [i for i in avengers_ratings if i >= 8]\n",
        "print(recommendations)"
      ],
      "execution_count": 0,
      "outputs": []
    },
    {
      "cell_type": "code",
      "metadata": {
        "id": "4b6eCR8jR_MK",
        "colab_type": "code",
        "colab": {}
      },
      "source": [
        "avengers = [\"The Avengers\", \"Avengers: Age of Ultron\", \"Avengers: Infinity War\", \"Avengers: Endgame\"]\n",
        "for idx, movie in enumerate(avengers):\n",
        "    print(\"第 {} 部上映的復仇者聯盟電影:{}\".format(idx+1, movie))"
      ],
      "execution_count": 0,
      "outputs": []
    },
    {
      "cell_type": "code",
      "metadata": {
        "id": "2caojTlSSIek",
        "colab_type": "code",
        "colab": {}
      },
      "source": [
        "years = [2012, 2015, 2018, 2019]\n",
        "for year, movie in zip(years, avengers):\n",
        "    print(\"{}上映的年份是{}\".format(movie, year))"
      ],
      "execution_count": 0,
      "outputs": []
    }
  ]
}