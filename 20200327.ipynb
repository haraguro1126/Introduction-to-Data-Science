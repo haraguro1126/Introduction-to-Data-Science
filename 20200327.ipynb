{
 "nbformat": 4,
 "nbformat_minor": 2,
 "metadata": {
  "language_info": {
   "name": "python",
   "codemirror_mode": {
    "name": "ipython",
    "version": 3
   },
   "version": "3.7.6-final"
  },
  "orig_nbformat": 2,
  "file_extension": ".py",
  "mimetype": "text/x-python",
  "name": "python",
  "npconvert_exporter": "python",
  "pygments_lexer": "ipython3",
  "version": 3,
  "kernelspec": {
   "name": "python3",
   "display_name": "Python 3"
  }
 },
 "cells": [
  {
   "cell_type": "code",
   "execution_count": 21,
   "metadata": {},
   "outputs": [
    {
     "output_type": "stream",
     "name": "stdout",
     "text": "77.0\n"
    }
   ],
   "source": [
    "#將目前的攝氏氣溫轉換為華氏氣溫 25\n",
    "current_celsius = 25\n",
    "current_fahrenheit = current_celsius*9/5+32\n",
    "print(current_fahrenheit)\n",
    ""
   ]
  },
  {
   "cell_type": "code",
   "execution_count": 22,
   "metadata": {},
   "outputs": [
    {
     "output_type": "stream",
     "name": "stdout",
     "text": "25.0\n"
    }
   ],
   "source": [
    "#將目前的華氏氣溫轉換為攝氏氣溫\n",
    "current_fahrenheit = 77\n",
    "current_celsius = (current_fahrenheit-32)*5/9\n",
    "print(current_celsius)"
   ]
  },
  {
   "cell_type": "code",
   "execution_count": 23,
   "metadata": {},
   "outputs": [
    {
     "output_type": "stream",
     "name": "stdout",
     "text": "31.507201646090532\n"
    }
   ],
   "source": [
    "#2-29 計算俠客歐尼爾巔峰時期的 BMI 身體質量指數\n",
    "shaq_height = 216\n",
    "shaq_weight = 147\n",
    "shaq_bmi = shaq_weight / (shaq_height/100)**2\n",
    "print(shaq_bmi)"
   ]
  },
  {
   "cell_type": "code",
   "execution_count": 24,
   "metadata": {},
   "outputs": [
    {
     "output_type": "stream",
     "name": "stdout",
     "text": "Let's put aside the fact that you \"accidentally\" pick up my grandmother's ring\n"
    }
   ],
   "source": [
    "#P2-42 ：What did Ross say?\n",
    "ross_said = \"Let's put aside the fact that you \\\"accidentally\\\" pick up my grandmother's ring\"\n",
    "print(ross_said)"
   ]
  },
  {
   "cell_type": "code",
   "execution_count": 25,
   "metadata": {},
   "outputs": [
    {
     "output_type": "stream",
     "name": "stdout",
     "text": "台北\n晴\n我在台北，天氣晴\n"
    }
   ],
   "source": [
    "#P2-50 讓使用者輸入城市名稱與天氣，並印出「我在OOO，天氣OOO」\n",
    "city = input(\"地點\")\n",
    "weather = input(\"天氣\")\n",
    "print(city)\n",
    "print(weather)\n",
    "print(\"我在{}，天氣{}\".format(city, weather))"
   ]
  },
  {
   "cell_type": "code",
   "execution_count": 26,
   "metadata": {},
   "outputs": [
    {
     "output_type": "stream",
     "name": "stdout",
     "text": "Shaquille的身體質量指數為：31.507201646090532\nShaquille是否過重：True\n"
    }
   ],
   "source": [
    "#P2-68 球員 BMI 與過重判斷\n",
    "player_name = \"Shaquille\"\n",
    "shaq_height = 216\n",
    "shaq_weight = 147\n",
    "shaq_bmi = shaq_weight / (shaq_height/100)**2\n",
    "print(\"{}的身體質量指數為：{}\".format(player_name, shaq_bmi))\n",
    "print(\"{}是否過重：{}\".format(player_name, shaq_bmi > 30))"
   ]
  }
 ]
}